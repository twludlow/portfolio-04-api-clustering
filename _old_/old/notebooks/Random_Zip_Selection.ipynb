{
 "cells": [
  {
   "cell_type": "code",
   "execution_count": 72,
   "metadata": {},
   "outputs": [],
   "source": [
    "import pandas as pd\n",
    "import numpy as np"
   ]
  },
  {
   "cell_type": "code",
   "execution_count": 73,
   "metadata": {},
   "outputs": [],
   "source": [
    "df = pd.read_csv('https://www.irs.gov/pub/irs-soi/16zpallagi.csv',dtype={'zipcode':str})"
   ]
  },
  {
   "cell_type": "code",
   "execution_count": 75,
   "metadata": {},
   "outputs": [
    {
     "data": {
      "text/plain": [
       "STATEFIPS     int64\n",
       "STATE        object\n",
       "zipcode      object\n",
       "dtype: object"
      ]
     },
     "execution_count": 75,
     "metadata": {},
     "output_type": "execute_result"
    }
   ],
   "source": [
    "df.dtypes[0:3]"
   ]
  },
  {
   "cell_type": "code",
   "execution_count": 74,
   "metadata": {},
   "outputs": [
    {
     "data": {
      "text/plain": [
       "5    165548\n",
       "4     13942\n",
       "1       306\n",
       "Name: zipcode, dtype: int64"
      ]
     },
     "execution_count": 74,
     "metadata": {},
     "output_type": "execute_result"
    }
   ],
   "source": [
    "# df['zipcode'].str.len().value_counts() ## zip lenth count"
   ]
  },
  {
   "cell_type": "code",
   "execution_count": 76,
   "metadata": {},
   "outputs": [],
   "source": [
    "## Changing zip to str and ading 0 when len ==4\n",
    "df['zipcode'] = df['zipcode'].map(lambda zcode: '0' + zcode if len(zcode) == 4 else zcode)"
   ]
  },
  {
   "cell_type": "code",
   "execution_count": 77,
   "metadata": {},
   "outputs": [
    {
     "name": "stdout",
     "output_type": "stream",
     "text": [
      "29874\n",
      "29872\n"
     ]
    }
   ],
   "source": [
    "# Selecting 1.000 random zips.\n",
    "all_zips = list(df['zipcode'].unique())\n",
    "print(len(all_zips))\n",
    "\n",
    "#Droping wrong zips from list\n",
    "all_zips.remove('0')\n",
    "all_zips.remove('99999')\n",
    "print(len(all_zips))"
   ]
  },
  {
   "cell_type": "code",
   "execution_count": 78,
   "metadata": {},
   "outputs": [],
   "source": [
    "#Seting random seed\n",
    "np.random.seed(42)\n",
    "# Generating random zips\n",
    "random_zip = np.random.choice(all_zips, size=1000, replace=False, p=None)"
   ]
  },
  {
   "cell_type": "code",
   "execution_count": 79,
   "metadata": {},
   "outputs": [],
   "source": [
    "df_random_zip = pd.DataFrame(random_zip,columns=['zipcode'])"
   ]
  },
  {
   "cell_type": "code",
   "execution_count": 80,
   "metadata": {},
   "outputs": [],
   "source": [
    "final_df = df[df.zipcode.isin(df_random_zip.zipcode)][['STATE','zipcode']].drop_duplicates()"
   ]
  },
  {
   "cell_type": "code",
   "execution_count": 81,
   "metadata": {},
   "outputs": [
    {
     "data": {
      "text/plain": [
       "(1000, 2)"
      ]
     },
     "execution_count": 81,
     "metadata": {},
     "output_type": "execute_result"
    }
   ],
   "source": [
    "#checking if 1 zip has more than 1 state\n",
    "final_df.shape"
   ]
  },
  {
   "cell_type": "code",
   "execution_count": 12,
   "metadata": {},
   "outputs": [],
   "source": [
    "## Saving Random Sample DF\n",
    "final_df.to_csv('./Data/random_1000_zips.csv',index=False)"
   ]
  },
  {
   "cell_type": "code",
   "execution_count": 82,
   "metadata": {},
   "outputs": [],
   "source": [
    "# Creating Zip-state data frame \n",
    "\n",
    "df_state_zip = df[df['zipcode'].isin(all_zips)][['zipcode','STATE']].drop_duplicates()\n",
    "\n",
    "# Saving zip-state relation\n",
    "df_state_zip.to_csv('./Data/zip_to_state.csv',index=False)"
   ]
  },
  {
   "cell_type": "code",
   "execution_count": null,
   "metadata": {},
   "outputs": [],
   "source": []
  }
 ],
 "metadata": {
  "kernelspec": {
   "display_name": "Python 3",
   "language": "python",
   "name": "python3"
  },
  "language_info": {
   "codemirror_mode": {
    "name": "ipython",
    "version": 3
   },
   "file_extension": ".py",
   "mimetype": "text/x-python",
   "name": "python",
   "nbconvert_exporter": "python",
   "pygments_lexer": "ipython3",
   "version": "3.6.6"
  }
 },
 "nbformat": 4,
 "nbformat_minor": 2
}
