{
 "cells": [
  {
   "cell_type": "code",
   "execution_count": 2,
   "metadata": {},
   "outputs": [],
   "source": [
    "import pandas as pd\n",
    "import numpy as np\n",
    "import re\n",
    "import matplotlib.pyplot as plt"
   ]
  },
  {
   "cell_type": "code",
   "execution_count": 3,
   "metadata": {},
   "outputs": [],
   "source": [
    "df = pd.read_csv('../Data/yelp_manh.csv',dtype={'zip':str})"
   ]
  },
  {
   "cell_type": "code",
   "execution_count": 4,
   "metadata": {},
   "outputs": [
    {
     "data": {
      "text/plain": [
       "zip          object\n",
       "city         object\n",
       "state        object\n",
       "cat          object\n",
       "pr_1          int64\n",
       "rv_1          int64\n",
       "pr_2          int64\n",
       "rv_2          int64\n",
       "pr_3          int64\n",
       "rv_3          int64\n",
       "pr_4          int64\n",
       "rv_4          int64\n",
       "avg_lat     float64\n",
       "avg_long    float64\n",
       "dtype: object"
      ]
     },
     "execution_count": 4,
     "metadata": {},
     "output_type": "execute_result"
    }
   ],
   "source": [
    "df.dtypes\n",
    "# df.shape"
   ]
  },
  {
   "cell_type": "code",
   "execution_count": 6,
   "metadata": {},
   "outputs": [],
   "source": [
    "# Column set-up\n",
    "beg = df.columns.get_loc(\"pr_1\")\n",
    "end = df.columns.get_loc(\"rv_4\")\n",
    "cats = list(df.cat.unique())\n",
    "zips = list(df['zip'].unique())\n",
    "base_columns = ['zip','city','state','avg_lat','avg_long']\n",
    "\n",
    "#Creting extra columns\n",
    "extra_columns = []\n",
    "for cat in cats:\n",
    "    for pos in range(beg,end+1):\n",
    "        extra_columns.append(cat[0:4]+'_'+df.columns[pos])\n",
    "#         print(df.columns[pos])\n",
    "\n",
    "total_cols = base_columns + extra_columns\n",
    "new_df = pd.DataFrame(columns=total_cols) ##+ extra_columns"
   ]
  },
  {
   "cell_type": "code",
   "execution_count": 6,
   "metadata": {},
   "outputs": [],
   "source": [
    "#Test\n",
    "#df[df['zip']=='59001']"
   ]
  },
  {
   "cell_type": "code",
   "execution_count": 7,
   "metadata": {},
   "outputs": [],
   "source": [
    "for zip_code in zips:\n",
    "    base_columns_val = []\n",
    "    cat_scores = []\n",
    "    total_columns = []\n",
    "    \n",
    "    city = df[df['zip']==zip_code]['city'].iloc[0]\n",
    "    state = df[df['zip']==zip_code]['state'].iloc[0]\n",
    "    lat = df[df['zip']==zip_code]['avg_lat'].iloc[0]\n",
    "    long = df[df['zip']==zip_code]['avg_long'].iloc[0]\n",
    "    base_columns_val = [zip_code,city,state,lat,long]\n",
    "  \n",
    "    for cat in cats:\n",
    "        row_index = df[(df['zip']==zip_code) & (df['cat']==cat)].index[0]\n",
    "        cat_scores.extend(list(df.iloc[row_index,beg:end+1]))\n",
    "        \n",
    "    total_columns.extend(base_columns_val)\n",
    "    total_columns.extend(cat_scores)\n",
    "    \n",
    "#     print(len(new_df),[zip_code,city,state,lat,long])\n",
    "    new_df.loc[len(new_df)] = total_columns      \n",
    "    "
   ]
  },
  {
   "cell_type": "code",
   "execution_count": 8,
   "metadata": {},
   "outputs": [
    {
     "data": {
      "text/plain": [
       "(165, 29)"
      ]
     },
     "execution_count": 8,
     "metadata": {},
     "output_type": "execute_result"
    }
   ],
   "source": [
    "new_df.to_csv('../Data/yelp_manh_unravel.csv',index=False)\n",
    "\n",
    "new_df.shape"
   ]
  },
  {
   "cell_type": "code",
   "execution_count": null,
   "metadata": {},
   "outputs": [],
   "source": []
  }
 ],
 "metadata": {
  "kernelspec": {
   "display_name": "Python 3",
   "language": "python",
   "name": "python3"
  },
  "language_info": {
   "codemirror_mode": {
    "name": "ipython",
    "version": 3
   },
   "file_extension": ".py",
   "mimetype": "text/x-python",
   "name": "python",
   "nbconvert_exporter": "python",
   "pygments_lexer": "ipython3",
   "version": "3.7.0"
  }
 },
 "nbformat": 4,
 "nbformat_minor": 2
}
