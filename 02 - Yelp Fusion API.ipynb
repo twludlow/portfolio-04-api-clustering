{
 "cells": [
  {
   "cell_type": "markdown",
   "metadata": {},
   "source": [
    "# Project 4: New Light Technologies - Yelp Affluence Model\n",
    "### Britt Allen, Bernard Kurka, Thomas Ludlow - NY-DSI-6\n",
    "\n",
    "# Notebook 2: Yelp Fusion API Exploration - 1/2/19"
   ]
  },
  {
   "cell_type": "markdown",
   "metadata": {},
   "source": [
    "Figure out how to pull `price` and supporting data directly from Yelp using *Fusion API*. \n",
    "\n",
    "This notebook contains the following functions designed to interact with the Yelp Fusion API to extract data required for development of our Affluence classification system.\n",
    " - `zip_query_to_df`\n",
    "  - Pulls summary zip code data for input location and saves to Pandas dataframe.\n",
    " - `zip_query`\n",
    "  - Pulls summary zip code data, limited to establishments physically located within zip\n",
    " - `query_to_df`\n",
    "  - **Final API Function**\n",
    "  - More general API pull function that returns output in dataframe, including:\n",
    "   -'categories', 'alias', 'city', 'state', 'zip_code', 'price', 'review_count', 'latitude', 'longitude'\n",
    "  - Used as main API function in `yelpaffluence_nyc` class"
   ]
  },
  {
   "cell_type": "markdown",
   "metadata": {},
   "source": [
    "### Resources"
   ]
  },
  {
   "cell_type": "markdown",
   "metadata": {},
   "source": [
    "GitHub: \n",
    " - https://github.com/Yelp/yelp-python\n",
    " - https://github.com/gfairchild/yelpapi *(Best library)*\n",
    "  - https://github.com/gfairchild/yelpapi/blob/master/examples/examples.py"
   ]
  },
  {
   "cell_type": "markdown",
   "metadata": {},
   "source": [
    "Endpoint Documentation: https://www.yelp.com/developers/documentation/v3/business"
   ]
  },
  {
   "cell_type": "markdown",
   "metadata": {},
   "source": [
    "Using regular search, a location-based query is formatted like this:\n",
    "`https://www.yelp.com/search?find_loc=10128`"
   ]
  },
  {
   "cell_type": "markdown",
   "metadata": {},
   "source": [
    "```\n",
    "My App\n",
    "Client ID\n",
    "ea2TodAq4YX-4W3lzSJrcA\n",
    "\n",
    "API Key\n",
    "21Pt2l8__qgIdL0ZpgYC_yWblJ_O8_vJ3_-tIybHDyuQl9oVBXAzAXQWqMmIrz7idLyc7owv4-lfSON0QjKJN4pvQei4rUQAGSZcGcVTQc4HtBseUcztUPkVrAItXHYx\n",
    "```"
   ]
  },
  {
   "cell_type": "markdown",
   "metadata": {},
   "source": [
    "### Libraries"
   ]
  },
  {
   "cell_type": "code",
   "execution_count": 1,
   "metadata": {},
   "outputs": [],
   "source": [
    "import numpy as np\n",
    "import pandas as pd\n",
    "import json\n",
    "from yelpapi import YelpAPI\n"
   ]
  },
  {
   "cell_type": "code",
   "execution_count": 28,
   "metadata": {},
   "outputs": [],
   "source": [
    "api_key = '21Pt2l8__qgIdL0ZpgYC_yWblJ_O8_vJ3_-tIybHDyuQl9oVBXAzAXQWqMmIrz7idLyc7owv4-lfSON0QjKJN4pvQei4rUQAGSZcGcVTQc4HtBseUcztUPkVrAItXHYx'\n",
    "yelp_api = YelpAPI(api_key, timeout_s=1.0)"
   ]
  },
  {
   "cell_type": "markdown",
   "metadata": {},
   "source": [
    "`search_results = yelp_api.search_query(args)`"
   ]
  },
  {
   "cell_type": "markdown",
   "metadata": {},
   "source": [
    "Search Query:\n",
    "`response = yelp_api.search_query(term='ice cream', location='austin, tx', sort_by='rating', limit=5)`"
   ]
  },
  {
   "cell_type": "code",
   "execution_count": 13,
   "metadata": {},
   "outputs": [],
   "source": [
    "response = yelp_api.search_query(location='10128')"
   ]
  },
  {
   "cell_type": "code",
   "execution_count": null,
   "metadata": {
    "scrolled": true
   },
   "outputs": [],
   "source": [
    "response"
   ]
  },
  {
   "cell_type": "code",
   "execution_count": 18,
   "metadata": {},
   "outputs": [
    {
     "data": {
      "text/plain": [
       "20"
      ]
     },
     "execution_count": 18,
     "metadata": {},
     "output_type": "execute_result"
    }
   ],
   "source": [
    "len(response['businesses'])"
   ]
  },
  {
   "cell_type": "code",
   "execution_count": 37,
   "metadata": {},
   "outputs": [],
   "source": [
    "response = yelp_api.search_query(location='dresher, PA', sort_by='review_count', limit=50)"
   ]
  },
  {
   "cell_type": "code",
   "execution_count": null,
   "metadata": {},
   "outputs": [],
   "source": [
    "response['businesses']"
   ]
  },
  {
   "cell_type": "code",
   "execution_count": 39,
   "metadata": {},
   "outputs": [],
   "source": [
    "ydf = pd.DataFrame(response['businesses'])"
   ]
  },
  {
   "cell_type": "code",
   "execution_count": 40,
   "metadata": {},
   "outputs": [
    {
     "data": {
      "text/html": [
       "<div>\n",
       "<style scoped>\n",
       "    .dataframe tbody tr th:only-of-type {\n",
       "        vertical-align: middle;\n",
       "    }\n",
       "\n",
       "    .dataframe tbody tr th {\n",
       "        vertical-align: top;\n",
       "    }\n",
       "\n",
       "    .dataframe thead th {\n",
       "        text-align: right;\n",
       "    }\n",
       "</style>\n",
       "<table border=\"1\" class=\"dataframe\">\n",
       "  <thead>\n",
       "    <tr style=\"text-align: right;\">\n",
       "      <th></th>\n",
       "      <th>alias</th>\n",
       "      <th>categories</th>\n",
       "      <th>coordinates</th>\n",
       "      <th>display_phone</th>\n",
       "      <th>distance</th>\n",
       "      <th>id</th>\n",
       "      <th>image_url</th>\n",
       "      <th>is_closed</th>\n",
       "      <th>location</th>\n",
       "      <th>name</th>\n",
       "      <th>phone</th>\n",
       "      <th>price</th>\n",
       "      <th>rating</th>\n",
       "      <th>review_count</th>\n",
       "      <th>transactions</th>\n",
       "      <th>url</th>\n",
       "    </tr>\n",
       "  </thead>\n",
       "  <tbody>\n",
       "    <tr>\n",
       "      <th>0</th>\n",
       "      <td>mad-mex-willow-grove-willow-grove-2</td>\n",
       "      <td>[{'alias': 'mexican', 'title': 'Mexican'}, {'a...</td>\n",
       "      <td>{'latitude': 40.147965, 'longitude': -75.1282592}</td>\n",
       "      <td>(267) 495-5000</td>\n",
       "      <td>3454.414192</td>\n",
       "      <td>rAe-1HU5Z-DuUXEbzASXDA</td>\n",
       "      <td>https://s3-media4.fl.yelpcdn.com/bphoto/Y5AKNV...</td>\n",
       "      <td>False</td>\n",
       "      <td>{'address1': '2862 W Moreland Rd', 'address2':...</td>\n",
       "      <td>Mad Mex - Willow Grove</td>\n",
       "      <td>+12674955000</td>\n",
       "      <td>$$</td>\n",
       "      <td>3.0</td>\n",
       "      <td>363</td>\n",
       "      <td>[delivery]</td>\n",
       "      <td>https://www.yelp.com/biz/mad-mex-willow-grove-...</td>\n",
       "    </tr>\n",
       "    <tr>\n",
       "      <th>1</th>\n",
       "      <td>cantina-feliz-fort-washington</td>\n",
       "      <td>[{'alias': 'mexican', 'title': 'Mexican'}]</td>\n",
       "      <td>{'latitude': 40.136374, 'longitude': -75.213808}</td>\n",
       "      <td>(215) 646-1320</td>\n",
       "      <td>3950.728609</td>\n",
       "      <td>w_B0phzyFXPmeiVlzQrq6A</td>\n",
       "      <td>https://s3-media2.fl.yelpcdn.com/bphoto/eCg8z6...</td>\n",
       "      <td>False</td>\n",
       "      <td>{'address1': '424 S Bethlehem Pike', 'address2...</td>\n",
       "      <td>Cantina Feliz</td>\n",
       "      <td>+12156461320</td>\n",
       "      <td>$$</td>\n",
       "      <td>4.0</td>\n",
       "      <td>358</td>\n",
       "      <td>[]</td>\n",
       "      <td>https://www.yelp.com/biz/cantina-feliz-fort-wa...</td>\n",
       "    </tr>\n",
       "    <tr>\n",
       "      <th>2</th>\n",
       "      <td>ooka-restaurant-willow-grove</td>\n",
       "      <td>[{'alias': 'japanese', 'title': 'Japanese'}, {...</td>\n",
       "      <td>{'latitude': 40.15676, 'longitude': -75.12175}</td>\n",
       "      <td>(215) 659-7688</td>\n",
       "      <td>4300.544616</td>\n",
       "      <td>2Q1R2OhBbAQ581vK_r7NhA</td>\n",
       "      <td>https://s3-media1.fl.yelpcdn.com/bphoto/vlL1qC...</td>\n",
       "      <td>False</td>\n",
       "      <td>{'address1': '1109 Easton Rd', 'address2': '',...</td>\n",
       "      <td>Ooka Restaurant</td>\n",
       "      <td>+12156597688</td>\n",
       "      <td>$$</td>\n",
       "      <td>4.0</td>\n",
       "      <td>333</td>\n",
       "      <td>[]</td>\n",
       "      <td>https://www.yelp.com/biz/ooka-restaurant-willo...</td>\n",
       "    </tr>\n",
       "    <tr>\n",
       "      <th>3</th>\n",
       "      <td>kitchen-bar-abington</td>\n",
       "      <td>[{'alias': 'tradamerican', 'title': 'American ...</td>\n",
       "      <td>{'latitude': 40.1249122619629, 'longitude': -7...</td>\n",
       "      <td>(215) 576-9766</td>\n",
       "      <td>4562.159885</td>\n",
       "      <td>JmzNw0WCPmZPZdq5nx9brg</td>\n",
       "      <td>https://s3-media2.fl.yelpcdn.com/bphoto/PTtRRJ...</td>\n",
       "      <td>False</td>\n",
       "      <td>{'address1': '1482 Old York Rd', 'address2': '...</td>\n",
       "      <td>Kitchen Bar</td>\n",
       "      <td>+12155769766</td>\n",
       "      <td>$$</td>\n",
       "      <td>3.0</td>\n",
       "      <td>324</td>\n",
       "      <td>[restaurant_reservation, delivery]</td>\n",
       "      <td>https://www.yelp.com/biz/kitchen-bar-abington?...</td>\n",
       "    </tr>\n",
       "    <tr>\n",
       "      <th>4</th>\n",
       "      <td>the-cheesecake-factory-willow-grove</td>\n",
       "      <td>[{'alias': 'newamerican', 'title': 'American (...</td>\n",
       "      <td>{'latitude': 40.1402781186111, 'longitude': -7...</td>\n",
       "      <td>(215) 659-0270</td>\n",
       "      <td>3589.628567</td>\n",
       "      <td>uP42QDUxC2lxz15BUDbFnA</td>\n",
       "      <td>https://s3-media4.fl.yelpcdn.com/bphoto/g4RnPr...</td>\n",
       "      <td>False</td>\n",
       "      <td>{'address1': '2500 W Moreland Rd', 'address2':...</td>\n",
       "      <td>The Cheesecake Factory</td>\n",
       "      <td>+12156590270</td>\n",
       "      <td>$$</td>\n",
       "      <td>3.0</td>\n",
       "      <td>290</td>\n",
       "      <td>[delivery]</td>\n",
       "      <td>https://www.yelp.com/biz/the-cheesecake-factor...</td>\n",
       "    </tr>\n",
       "  </tbody>\n",
       "</table>\n",
       "</div>"
      ],
      "text/plain": [
       "                                 alias  \\\n",
       "0  mad-mex-willow-grove-willow-grove-2   \n",
       "1        cantina-feliz-fort-washington   \n",
       "2         ooka-restaurant-willow-grove   \n",
       "3                 kitchen-bar-abington   \n",
       "4  the-cheesecake-factory-willow-grove   \n",
       "\n",
       "                                          categories  \\\n",
       "0  [{'alias': 'mexican', 'title': 'Mexican'}, {'a...   \n",
       "1         [{'alias': 'mexican', 'title': 'Mexican'}]   \n",
       "2  [{'alias': 'japanese', 'title': 'Japanese'}, {...   \n",
       "3  [{'alias': 'tradamerican', 'title': 'American ...   \n",
       "4  [{'alias': 'newamerican', 'title': 'American (...   \n",
       "\n",
       "                                         coordinates   display_phone  \\\n",
       "0  {'latitude': 40.147965, 'longitude': -75.1282592}  (267) 495-5000   \n",
       "1   {'latitude': 40.136374, 'longitude': -75.213808}  (215) 646-1320   \n",
       "2     {'latitude': 40.15676, 'longitude': -75.12175}  (215) 659-7688   \n",
       "3  {'latitude': 40.1249122619629, 'longitude': -7...  (215) 576-9766   \n",
       "4  {'latitude': 40.1402781186111, 'longitude': -7...  (215) 659-0270   \n",
       "\n",
       "      distance                      id  \\\n",
       "0  3454.414192  rAe-1HU5Z-DuUXEbzASXDA   \n",
       "1  3950.728609  w_B0phzyFXPmeiVlzQrq6A   \n",
       "2  4300.544616  2Q1R2OhBbAQ581vK_r7NhA   \n",
       "3  4562.159885  JmzNw0WCPmZPZdq5nx9brg   \n",
       "4  3589.628567  uP42QDUxC2lxz15BUDbFnA   \n",
       "\n",
       "                                           image_url  is_closed  \\\n",
       "0  https://s3-media4.fl.yelpcdn.com/bphoto/Y5AKNV...      False   \n",
       "1  https://s3-media2.fl.yelpcdn.com/bphoto/eCg8z6...      False   \n",
       "2  https://s3-media1.fl.yelpcdn.com/bphoto/vlL1qC...      False   \n",
       "3  https://s3-media2.fl.yelpcdn.com/bphoto/PTtRRJ...      False   \n",
       "4  https://s3-media4.fl.yelpcdn.com/bphoto/g4RnPr...      False   \n",
       "\n",
       "                                            location                    name  \\\n",
       "0  {'address1': '2862 W Moreland Rd', 'address2':...  Mad Mex - Willow Grove   \n",
       "1  {'address1': '424 S Bethlehem Pike', 'address2...           Cantina Feliz   \n",
       "2  {'address1': '1109 Easton Rd', 'address2': '',...         Ooka Restaurant   \n",
       "3  {'address1': '1482 Old York Rd', 'address2': '...             Kitchen Bar   \n",
       "4  {'address1': '2500 W Moreland Rd', 'address2':...  The Cheesecake Factory   \n",
       "\n",
       "          phone price  rating  review_count  \\\n",
       "0  +12674955000    $$     3.0           363   \n",
       "1  +12156461320    $$     4.0           358   \n",
       "2  +12156597688    $$     4.0           333   \n",
       "3  +12155769766    $$     3.0           324   \n",
       "4  +12156590270    $$     3.0           290   \n",
       "\n",
       "                         transactions  \\\n",
       "0                          [delivery]   \n",
       "1                                  []   \n",
       "2                                  []   \n",
       "3  [restaurant_reservation, delivery]   \n",
       "4                          [delivery]   \n",
       "\n",
       "                                                 url  \n",
       "0  https://www.yelp.com/biz/mad-mex-willow-grove-...  \n",
       "1  https://www.yelp.com/biz/cantina-feliz-fort-wa...  \n",
       "2  https://www.yelp.com/biz/ooka-restaurant-willo...  \n",
       "3  https://www.yelp.com/biz/kitchen-bar-abington?...  \n",
       "4  https://www.yelp.com/biz/the-cheesecake-factor...  "
      ]
     },
     "execution_count": 40,
     "metadata": {},
     "output_type": "execute_result"
    }
   ],
   "source": [
    "ydf.head()"
   ]
  },
  {
   "cell_type": "code",
   "execution_count": 175,
   "metadata": {},
   "outputs": [
    {
     "data": {
      "text/plain": [
       "(50, 16)"
      ]
     },
     "execution_count": 175,
     "metadata": {},
     "output_type": "execute_result"
    }
   ],
   "source": [
    "ydf.shape"
   ]
  },
  {
   "cell_type": "code",
   "execution_count": 43,
   "metadata": {},
   "outputs": [
    {
     "data": {
      "text/plain": [
       "[{'alias': 'mexican', 'title': 'Mexican'},\n",
       " {'alias': 'tex-mex', 'title': 'Tex-Mex'}]"
      ]
     },
     "execution_count": 43,
     "metadata": {},
     "output_type": "execute_result"
    }
   ],
   "source": [
    "ydf.loc[0]['categories']"
   ]
  },
  {
   "cell_type": "code",
   "execution_count": null,
   "metadata": {
    "scrolled": true
   },
   "outputs": [],
   "source": [
    "ydf['location']"
   ]
  },
  {
   "cell_type": "markdown",
   "metadata": {},
   "source": [
    "`YelpAPI.search_query` arguments:\n",
    "- `location`\n",
    "- `sort_by`\n",
    "- `limit`\n",
    "- `offset`\n",
    "- `categories` *comma-separated list*\n",
    "\n",
    "Category dictionary: https://www.yelp.com/developers/documentation/v3/all_category_list"
   ]
  },
  {
   "cell_type": "code",
   "execution_count": 46,
   "metadata": {},
   "outputs": [],
   "source": [
    "with open('./categories.json', encoding='utf-8') as json_file:\n",
    "    categories = json.load(json_file)"
   ]
  },
  {
   "cell_type": "code",
   "execution_count": null,
   "metadata": {},
   "outputs": [],
   "source": [
    "categories"
   ]
  },
  {
   "cell_type": "code",
   "execution_count": 52,
   "metadata": {},
   "outputs": [
    {
     "data": {
      "text/plain": [
       "list"
      ]
     },
     "execution_count": 52,
     "metadata": {},
     "output_type": "execute_result"
    }
   ],
   "source": [
    "type(categories)"
   ]
  },
  {
   "cell_type": "markdown",
   "metadata": {},
   "source": [
    "### Parent Categories"
   ]
  },
  {
   "cell_type": "code",
   "execution_count": 53,
   "metadata": {},
   "outputs": [
    {
     "name": "stdout",
     "output_type": "stream",
     "text": [
      "active\n",
      "arts\n",
      "auto\n",
      "beautysvc\n",
      "bicycles\n",
      "education\n",
      "eventservices\n",
      "financialservices\n",
      "food\n",
      "health\n",
      "homeservices\n",
      "hotelstravel\n",
      "localflavor\n",
      "localservices\n",
      "massmedia\n",
      "nightlife\n",
      "pets\n",
      "professional\n",
      "publicservicesgovt\n",
      "religiousorgs\n",
      "restaurants\n",
      "shopping\n"
     ]
    }
   ],
   "source": [
    "parent_cats = []\n",
    "\n",
    "for cat in categories:\n",
    "    if cat['parents']==[]:\n",
    "        print(cat['alias'])\n",
    "        parent_cats.append(cat['alias'])"
   ]
  },
  {
   "cell_type": "code",
   "execution_count": 54,
   "metadata": {},
   "outputs": [
    {
     "data": {
      "text/plain": [
       "22"
      ]
     },
     "execution_count": 54,
     "metadata": {},
     "output_type": "execute_result"
    }
   ],
   "source": [
    "len(parent_cats)"
   ]
  },
  {
   "cell_type": "markdown",
   "metadata": {},
   "source": [
    "## Function to pull results from a ZIP code"
   ]
  },
  {
   "cell_type": "code",
   "execution_count": 153,
   "metadata": {},
   "outputs": [],
   "source": [
    "def zip_query_to_df(zip_in, cats=['restaurants','shopping','nightlife',\n",
    "                                  'hotelstravel','localservices','food',\n",
    "                                  'eventservices','beautysvc','dryclean',\n",
    "                                  'hair','bar']):\n",
    "    \n",
    "    api_key = '21Pt2l8__qgIdL0ZpgYC_yWblJ_O8_vJ3_-tIybHDyuQl9oVBXAzAXQWqMmIrz7idLyc7owv4-lfSON0QjKJN4pvQei4rUQAGSZcGcVTQc4HtBseUcztUPkVrAItXHYx'\n",
    "    api_obj = YelpAPI(api_key, timeout_s=3.0)\n",
    "    \n",
    "    zip_results = pd.DataFrame(index=cats, columns=['one','two','three','four'])\n",
    "    #print(zip_results)\n",
    "    \n",
    "    for cat in cats:\n",
    "        print(cat)\n",
    "        response = api_obj.search_query(location=str(zip_in), categories=[cat], \n",
    "                                        sort_by='distance', limit=50)\n",
    "        res_df = pd.DataFrame(response['businesses'])\n",
    "        #print(res_df.columns)\n",
    "        for i in range(len(res_df)):\n",
    "            if res_df['location'][i]['zip_code'] != str(zip_in):\n",
    "                res_df.iloc[i, 11] = np.NaN\n",
    "        \n",
    "        try:\n",
    "#             print(res_df[res_df.price.str.strip()=='$'])\n",
    "#             print(res_df[res_df.price.str.strip()=='$$'])\n",
    "#             print(res_df[res_df.price.str.strip()=='$$$'])\n",
    "#             print(res_df[res_df.price.str.strip()=='$$$$'])\n",
    "            \n",
    "            one_ct = res_df[res_df.price.str.strip()=='$'].shape[0]\n",
    "            two_ct = res_df[res_df.price.str.strip()=='$$'].shape[0]\n",
    "            three_ct = res_df[res_df.price.str.strip()=='$$$'].shape[0]\n",
    "            four_ct = res_df[res_df.price.str.strip()=='$$$$'].shape[0]\n",
    "            \n",
    "            zip_results.loc[cat,'one'] = res_df[res_df.price.str.strip()=='$'].shape[0]\n",
    "            zip_results.loc[cat,'two'] = res_df[res_df.price.str.strip()=='$$'].shape[0]\n",
    "            zip_results.loc[cat,'three'] = res_df[res_df.price.str.strip()=='$$$'].shape[0]\n",
    "            zip_results.loc[cat,'four'] = res_df[res_df.price.str.strip()=='$$$$'].shape[0]\n",
    "        except:\n",
    "            pass\n",
    "        #if one_ct + two_ct + three_ct + four_ct < 40:\n",
    "        print(cat, '2')\n",
    "        res2 = api_obj.search_query(location=str(zip_in), categories=[cat], \n",
    "                                    sort_by='distance', offset=50, limit=50)\n",
    "        res2_df = pd.DataFrame(res2['businesses'])\n",
    "        for j in range(len(res2_df)):\n",
    "            if res2_df['location'][j]['zip_code'] != str(zip_in):\n",
    "                res2_df.iloc[j, 11] = np.NaN\n",
    "        try:\n",
    "            zip_results.loc[cat,'one'] += res2_df[res2_df.price.str.strip()=='$'].shape[0]\n",
    "            zip_results.loc[cat,'two'] += res2_df[res2_df.price.str.strip()=='$$'].shape[0]\n",
    "            zip_results.loc[cat,'three'] += res2_df[res2_df.price.str.strip()=='$$$'].shape[0]\n",
    "            zip_results.loc[cat,'four'] += res2_df[res2_df.price.str.strip()=='$$$$'].shape[0]\n",
    "        except:\n",
    "            pass \n",
    "\n",
    "    return zip_results"
   ]
  },
  {
   "cell_type": "code",
   "execution_count": 149,
   "metadata": {},
   "outputs": [
    {
     "name": "stdout",
     "output_type": "stream",
     "text": [
      "restaurants\n",
      "restaurants 2\n",
      "shopping\n",
      "shopping 2\n",
      "nightlife\n",
      "nightlife 2\n",
      "hotelstravel\n",
      "hotelstravel 2\n",
      "localservices\n",
      "localservices 2\n",
      "food\n",
      "food 2\n",
      "eventservices\n",
      "eventservices 2\n",
      "beautysvc\n",
      "beautysvc 2\n",
      "dryclean\n",
      "dryclean 2\n",
      "hair\n",
      "hair 2\n",
      "bar\n",
      "bar 2\n"
     ]
    },
    {
     "data": {
      "text/html": [
       "<div>\n",
       "<style scoped>\n",
       "    .dataframe tbody tr th:only-of-type {\n",
       "        vertical-align: middle;\n",
       "    }\n",
       "\n",
       "    .dataframe tbody tr th {\n",
       "        vertical-align: top;\n",
       "    }\n",
       "\n",
       "    .dataframe thead th {\n",
       "        text-align: right;\n",
       "    }\n",
       "</style>\n",
       "<table border=\"1\" class=\"dataframe\">\n",
       "  <thead>\n",
       "    <tr style=\"text-align: right;\">\n",
       "      <th></th>\n",
       "      <th>one</th>\n",
       "      <th>two</th>\n",
       "      <th>three</th>\n",
       "      <th>four</th>\n",
       "    </tr>\n",
       "  </thead>\n",
       "  <tbody>\n",
       "    <tr>\n",
       "      <th>restaurants</th>\n",
       "      <td>9</td>\n",
       "      <td>5</td>\n",
       "      <td>0</td>\n",
       "      <td>0</td>\n",
       "    </tr>\n",
       "    <tr>\n",
       "      <th>shopping</th>\n",
       "      <td>0</td>\n",
       "      <td>2</td>\n",
       "      <td>0</td>\n",
       "      <td>0</td>\n",
       "    </tr>\n",
       "    <tr>\n",
       "      <th>nightlife</th>\n",
       "      <td>0</td>\n",
       "      <td>0</td>\n",
       "      <td>0</td>\n",
       "      <td>0</td>\n",
       "    </tr>\n",
       "    <tr>\n",
       "      <th>hotelstravel</th>\n",
       "      <td>0</td>\n",
       "      <td>0</td>\n",
       "      <td>0</td>\n",
       "      <td>0</td>\n",
       "    </tr>\n",
       "    <tr>\n",
       "      <th>localservices</th>\n",
       "      <td>0</td>\n",
       "      <td>0</td>\n",
       "      <td>0</td>\n",
       "      <td>0</td>\n",
       "    </tr>\n",
       "    <tr>\n",
       "      <th>food</th>\n",
       "      <td>2</td>\n",
       "      <td>4</td>\n",
       "      <td>1</td>\n",
       "      <td>0</td>\n",
       "    </tr>\n",
       "    <tr>\n",
       "      <th>eventservices</th>\n",
       "      <td>0</td>\n",
       "      <td>0</td>\n",
       "      <td>0</td>\n",
       "      <td>0</td>\n",
       "    </tr>\n",
       "    <tr>\n",
       "      <th>beautysvc</th>\n",
       "      <td>1</td>\n",
       "      <td>2</td>\n",
       "      <td>0</td>\n",
       "      <td>0</td>\n",
       "    </tr>\n",
       "    <tr>\n",
       "      <th>dryclean</th>\n",
       "      <td>0</td>\n",
       "      <td>0</td>\n",
       "      <td>0</td>\n",
       "      <td>0</td>\n",
       "    </tr>\n",
       "    <tr>\n",
       "      <th>hair</th>\n",
       "      <td>0</td>\n",
       "      <td>1</td>\n",
       "      <td>0</td>\n",
       "      <td>0</td>\n",
       "    </tr>\n",
       "    <tr>\n",
       "      <th>bar</th>\n",
       "      <td>9</td>\n",
       "      <td>7</td>\n",
       "      <td>0</td>\n",
       "      <td>0</td>\n",
       "    </tr>\n",
       "  </tbody>\n",
       "</table>\n",
       "</div>"
      ],
      "text/plain": [
       "               one  two  three  four\n",
       "restaurants      9    5      0     0\n",
       "shopping         0    2      0     0\n",
       "nightlife        0    0      0     0\n",
       "hotelstravel     0    0      0     0\n",
       "localservices    0    0      0     0\n",
       "food             2    4      1     0\n",
       "eventservices    0    0      0     0\n",
       "beautysvc        1    2      0     0\n",
       "dryclean         0    0      0     0\n",
       "hair             0    1      0     0\n",
       "bar              9    7      0     0"
      ]
     },
     "execution_count": 149,
     "metadata": {},
     "output_type": "execute_result"
    }
   ],
   "source": [
    "zip_query_to_df('19025')"
   ]
  },
  {
   "cell_type": "code",
   "execution_count": 150,
   "metadata": {
    "scrolled": false
   },
   "outputs": [
    {
     "name": "stdout",
     "output_type": "stream",
     "text": [
      "restaurants\n",
      "restaurants 2\n",
      "shopping\n",
      "shopping 2\n",
      "nightlife\n",
      "nightlife 2\n",
      "hotelstravel\n",
      "hotelstravel 2\n",
      "localservices\n",
      "localservices 2\n",
      "food\n",
      "food 2\n",
      "eventservices\n",
      "eventservices 2\n",
      "beautysvc\n",
      "beautysvc 2\n",
      "dryclean\n",
      "dryclean 2\n",
      "hair\n",
      "hair 2\n",
      "bar\n",
      "bar 2\n"
     ]
    },
    {
     "data": {
      "text/html": [
       "<div>\n",
       "<style scoped>\n",
       "    .dataframe tbody tr th:only-of-type {\n",
       "        vertical-align: middle;\n",
       "    }\n",
       "\n",
       "    .dataframe tbody tr th {\n",
       "        vertical-align: top;\n",
       "    }\n",
       "\n",
       "    .dataframe thead th {\n",
       "        text-align: right;\n",
       "    }\n",
       "</style>\n",
       "<table border=\"1\" class=\"dataframe\">\n",
       "  <thead>\n",
       "    <tr style=\"text-align: right;\">\n",
       "      <th></th>\n",
       "      <th>one</th>\n",
       "      <th>two</th>\n",
       "      <th>three</th>\n",
       "      <th>four</th>\n",
       "    </tr>\n",
       "  </thead>\n",
       "  <tbody>\n",
       "    <tr>\n",
       "      <th>restaurants</th>\n",
       "      <td>14</td>\n",
       "      <td>47</td>\n",
       "      <td>5</td>\n",
       "      <td>0</td>\n",
       "    </tr>\n",
       "    <tr>\n",
       "      <th>shopping</th>\n",
       "      <td>6</td>\n",
       "      <td>32</td>\n",
       "      <td>5</td>\n",
       "      <td>5</td>\n",
       "    </tr>\n",
       "    <tr>\n",
       "      <th>nightlife</th>\n",
       "      <td>6</td>\n",
       "      <td>18</td>\n",
       "      <td>2</td>\n",
       "      <td>0</td>\n",
       "    </tr>\n",
       "    <tr>\n",
       "      <th>hotelstravel</th>\n",
       "      <td>0</td>\n",
       "      <td>3</td>\n",
       "      <td>1</td>\n",
       "      <td>0</td>\n",
       "    </tr>\n",
       "    <tr>\n",
       "      <th>localservices</th>\n",
       "      <td>5</td>\n",
       "      <td>13</td>\n",
       "      <td>2</td>\n",
       "      <td>1</td>\n",
       "    </tr>\n",
       "    <tr>\n",
       "      <th>food</th>\n",
       "      <td>17</td>\n",
       "      <td>32</td>\n",
       "      <td>2</td>\n",
       "      <td>5</td>\n",
       "    </tr>\n",
       "    <tr>\n",
       "      <th>eventservices</th>\n",
       "      <td>1</td>\n",
       "      <td>10</td>\n",
       "      <td>1</td>\n",
       "      <td>1</td>\n",
       "    </tr>\n",
       "    <tr>\n",
       "      <th>beautysvc</th>\n",
       "      <td>13</td>\n",
       "      <td>35</td>\n",
       "      <td>7</td>\n",
       "      <td>3</td>\n",
       "    </tr>\n",
       "    <tr>\n",
       "      <th>dryclean</th>\n",
       "      <td>0</td>\n",
       "      <td>4</td>\n",
       "      <td>1</td>\n",
       "      <td>2</td>\n",
       "    </tr>\n",
       "    <tr>\n",
       "      <th>hair</th>\n",
       "      <td>4</td>\n",
       "      <td>20</td>\n",
       "      <td>1</td>\n",
       "      <td>1</td>\n",
       "    </tr>\n",
       "    <tr>\n",
       "      <th>bar</th>\n",
       "      <td>23</td>\n",
       "      <td>37</td>\n",
       "      <td>4</td>\n",
       "      <td>1</td>\n",
       "    </tr>\n",
       "  </tbody>\n",
       "</table>\n",
       "</div>"
      ],
      "text/plain": [
       "               one  two  three  four\n",
       "restaurants     14   47      5     0\n",
       "shopping         6   32      5     5\n",
       "nightlife        6   18      2     0\n",
       "hotelstravel     0    3      1     0\n",
       "localservices    5   13      2     1\n",
       "food            17   32      2     5\n",
       "eventservices    1   10      1     1\n",
       "beautysvc       13   35      7     3\n",
       "dryclean         0    4      1     2\n",
       "hair             4   20      1     1\n",
       "bar             23   37      4     1"
      ]
     },
     "execution_count": 150,
     "metadata": {},
     "output_type": "execute_result"
    }
   ],
   "source": [
    "zip_query_to_df('10128')"
   ]
  },
  {
   "cell_type": "code",
   "execution_count": 119,
   "metadata": {},
   "outputs": [
    {
     "data": {
      "text/plain": [
       "8"
      ]
     },
     "execution_count": 119,
     "metadata": {},
     "output_type": "execute_result"
    }
   ],
   "source": [
    "df2.sum().sum()"
   ]
  },
  {
   "cell_type": "code",
   "execution_count": 208,
   "metadata": {},
   "outputs": [],
   "source": [
    "def zip_query(zip_in, cats=['restaurants','shopping','localservices']):\n",
    "    \"\"\"Available arguments for zip_query: \n",
    "    zip_in: zip code (str)\n",
    "    cats: categories (list) - default is ['restaurants','shopping','localservices']\n",
    "    \"\"\"\n",
    "    \n",
    "    api_key = '21Pt2l8__qgIdL0ZpgYC_yWblJ_O8_vJ3_-tIybHDyuQl9oVBXAzAXQWqMmIrz7idLyc7owv4-lfSON0QjKJN4pvQei4rUQAGSZcGcVTQc4HtBseUcztUPkVrAItXHYx'\n",
    "    api_obj = YelpAPI(api_key, timeout_s=3.0)\n",
    "    \n",
    "    zip_results = pd.DataFrame(index=cats, columns=['1','2','3','4','returned'])\n",
    "    \n",
    "    for cat in cats:\n",
    "        in_zip = True\n",
    "        \n",
    "        offset_val = 0\n",
    "        return_ct = 0\n",
    "        \n",
    "        while in_zip:\n",
    "            response = api_obj.search_query(location=zip_in, categories=[cat], \n",
    "                                            sort_by='distance', offset=offset_val, \n",
    "                                            limit=50)\n",
    "            cat_df = pd.DataFrame(response['businesses'])\n",
    "            return_ct += cat_df.shape[0]\n",
    "            \n",
    "            for i in range(len(cat_df)):\n",
    "                if cat_df['location'][i]['zip_code'] != zip_in:\n",
    "                    cat_df.iloc[i, 11] = '0' # index location for 'price' key is 11\n",
    "                    in_zip = False\n",
    "            \n",
    "            zip_results.loc[cat,'1'] = cat_df[cat_df.price.str.strip()=='$'].shape[0]\n",
    "            zip_results.loc[cat,'2'] = cat_df[cat_df.price.str.strip()=='$$'].shape[0]\n",
    "            zip_results.loc[cat,'3'] = cat_df[cat_df.price.str.strip()=='$$$'].shape[0]\n",
    "            zip_results.loc[cat,'4'] = cat_df[cat_df.price.str.strip()=='$$$$'].shape[0]\n",
    "            \n",
    "            offset_val += 50\n",
    "        zip_results.loc[cat,'returned'] = return_ct\n",
    "    return zip_results\n",
    "    "
   ]
  },
  {
   "cell_type": "code",
   "execution_count": 209,
   "metadata": {},
   "outputs": [
    {
     "data": {
      "text/html": [
       "<div>\n",
       "<style scoped>\n",
       "    .dataframe tbody tr th:only-of-type {\n",
       "        vertical-align: middle;\n",
       "    }\n",
       "\n",
       "    .dataframe tbody tr th {\n",
       "        vertical-align: top;\n",
       "    }\n",
       "\n",
       "    .dataframe thead th {\n",
       "        text-align: right;\n",
       "    }\n",
       "</style>\n",
       "<table border=\"1\" class=\"dataframe\">\n",
       "  <thead>\n",
       "    <tr style=\"text-align: right;\">\n",
       "      <th></th>\n",
       "      <th>1</th>\n",
       "      <th>2</th>\n",
       "      <th>3</th>\n",
       "      <th>4</th>\n",
       "      <th>returned</th>\n",
       "    </tr>\n",
       "  </thead>\n",
       "  <tbody>\n",
       "    <tr>\n",
       "      <th>restaurants</th>\n",
       "      <td>14</td>\n",
       "      <td>31</td>\n",
       "      <td>3</td>\n",
       "      <td>0</td>\n",
       "      <td>50</td>\n",
       "    </tr>\n",
       "    <tr>\n",
       "      <th>shopping</th>\n",
       "      <td>5</td>\n",
       "      <td>26</td>\n",
       "      <td>5</td>\n",
       "      <td>5</td>\n",
       "      <td>50</td>\n",
       "    </tr>\n",
       "    <tr>\n",
       "      <th>localservices</th>\n",
       "      <td>4</td>\n",
       "      <td>10</td>\n",
       "      <td>4</td>\n",
       "      <td>2</td>\n",
       "      <td>100</td>\n",
       "    </tr>\n",
       "  </tbody>\n",
       "</table>\n",
       "</div>"
      ],
      "text/plain": [
       "                1   2  3  4  returned\n",
       "restaurants    14  31  3  0        50\n",
       "shopping        5  26  5  5        50\n",
       "localservices   4  10  4  2       100"
      ]
     },
     "execution_count": 209,
     "metadata": {},
     "output_type": "execute_result"
    }
   ],
   "source": [
    "zip_query('10128')"
   ]
  },
  {
   "cell_type": "markdown",
   "metadata": {},
   "source": [
    "## Search query to dataframe"
   ]
  },
  {
   "cell_type": "code",
   "execution_count": 235,
   "metadata": {},
   "outputs": [],
   "source": [
    "def query_to_df(loc_in, cat_in=['restaurants','shopping','localservices'], \n",
    "                sort_in='distance', limit_in=50, \n",
    "                cols=['categories','alias','city','state','zip_code','price','review_count','latitude','longitude']):\n",
    "    \"\"\"Available arguments:\n",
    "    loc_in (str): location (zip, city, neighborhood, etc.)\n",
    "    cat_in (list): categories - default is ['restaurants','shopping','localservices']\n",
    "    sort_in (str): sort criterion of 'distance','best_match','review_count' - default is 'distance'\n",
    "    limit_in (int): number of results to pull per category, max is 50 - default is 50\n",
    "    cols (list): columns for dataframe, matching API results key names - default is\n",
    "    ['categories','alias','city','state','zip_code','price','review_count','latitude','longitude']\n",
    "    \"\"\"\n",
    "    api_key = '21Pt2l8__qgIdL0ZpgYC_yWblJ_O8_vJ3_-tIybHDyuQl9oVBXAzAXQWqMmIrz7idLyc7owv4-lfSON0QjKJN4pvQei4rUQAGSZcGcVTQc4HtBseUcztUPkVrAItXHYx'\n",
    "    api_obj = YelpAPI(api_key, timeout_s=3.0)\n",
    "    \n",
    "    output_df = pd.DataFrame(columns=['search_term']+cols)\n",
    "    \n",
    "    limit_list = []\n",
    "    if limit_in > 50:\n",
    "        req = limit_in\n",
    "        while req > 50:\n",
    "            limit_list.append(50)\n",
    "            req -= 50\n",
    "        limit_list.append(req)\n",
    "    else:\n",
    "        limit_list.append(limit_in)\n",
    "    \n",
    "    for cat in cat_in:\n",
    "        cat_df = pd.DataFrame(columns=['search_term']+cols)\n",
    "        for j, limit in enumerate(limit_list):\n",
    "            response = api_obj.search_query(location=loc_in, categories=[cat], sort_by=sort_in, limit=limit, offset=(j*50))\n",
    "            response_df = pd.DataFrame(response['businesses'])            \n",
    "            iter_df = pd.DataFrame(columns=['search_term']+cols)\n",
    "            iter_df['search_term'] = [cat for i in range(len(response_df))]\n",
    "\n",
    "            for col_name in cols:\n",
    "                if col_name == 'categories':\n",
    "                    for k, cell in enumerate(response_df['categories']):\n",
    "                        iter_cat_str = ''\n",
    "                        for d in cell:\n",
    "                            iter_cat_str += str(d['alias']+', ')\n",
    "                        iter_df.loc[k, 'categories'] = iter_cat_str[:-2]                    \n",
    "                elif col_name in ('city','state','zip_code'):\n",
    "                    iter_df[col_name] = [response_df['location'][i][col_name] for i in range(response_df.shape[0])]\n",
    "                elif col_name in ('latitude','longitude'):\n",
    "                    iter_df[col_name] = [response_df['coordinates'][i][col_name] for i in range(response_df.shape[0])]\n",
    "                else:\n",
    "                    iter_df[col_name] = response_df[col_name]\n",
    "            cat_df = cat_df.append(iter_df)\n",
    "        output_df = output_df.append(cat_df)\n",
    "    output_df.index = range(output_df.shape[0])\n",
    "    \n",
    "    return output_df\n"
   ]
  },
  {
   "cell_type": "code",
   "execution_count": 236,
   "metadata": {
    "scrolled": true
   },
   "outputs": [],
   "source": [
    "test_df = query_to_df('10128', limit_in=70, cat_in=['restaurants'])"
   ]
  },
  {
   "cell_type": "code",
   "execution_count": 215,
   "metadata": {},
   "outputs": [
    {
     "data": {
      "text/plain": [
       "(70, 9)"
      ]
     },
     "execution_count": 215,
     "metadata": {},
     "output_type": "execute_result"
    }
   ],
   "source": [
    "test_df.shape"
   ]
  },
  {
   "cell_type": "code",
   "execution_count": 200,
   "metadata": {},
   "outputs": [
    {
     "data": {
      "text/html": [
       "<div>\n",
       "<style scoped>\n",
       "    .dataframe tbody tr th:only-of-type {\n",
       "        vertical-align: middle;\n",
       "    }\n",
       "\n",
       "    .dataframe tbody tr th {\n",
       "        vertical-align: top;\n",
       "    }\n",
       "\n",
       "    .dataframe thead th {\n",
       "        text-align: right;\n",
       "    }\n",
       "</style>\n",
       "<table border=\"1\" class=\"dataframe\">\n",
       "  <thead>\n",
       "    <tr style=\"text-align: right;\">\n",
       "      <th></th>\n",
       "      <th>1</th>\n",
       "      <th>2</th>\n",
       "      <th>3</th>\n",
       "      <th>4</th>\n",
       "      <th>returned</th>\n",
       "    </tr>\n",
       "  </thead>\n",
       "  <tbody>\n",
       "    <tr>\n",
       "      <th>restaurants</th>\n",
       "      <td>14</td>\n",
       "      <td>31</td>\n",
       "      <td>3</td>\n",
       "      <td>0</td>\n",
       "      <td>50</td>\n",
       "    </tr>\n",
       "    <tr>\n",
       "      <th>shopping</th>\n",
       "      <td>5</td>\n",
       "      <td>26</td>\n",
       "      <td>5</td>\n",
       "      <td>5</td>\n",
       "      <td>50</td>\n",
       "    </tr>\n",
       "    <tr>\n",
       "      <th>localservices</th>\n",
       "      <td>4</td>\n",
       "      <td>10</td>\n",
       "      <td>4</td>\n",
       "      <td>2</td>\n",
       "      <td>100</td>\n",
       "    </tr>\n",
       "  </tbody>\n",
       "</table>\n",
       "</div>"
      ],
      "text/plain": [
       "                1   2  3  4  returned\n",
       "restaurants    14  31  3  0        50\n",
       "shopping        5  26  5  5        50\n",
       "localservices   4  10  4  2       100"
      ]
     },
     "execution_count": 200,
     "metadata": {},
     "output_type": "execute_result"
    }
   ],
   "source": [
    "zip_query('10128')"
   ]
  },
  {
   "cell_type": "code",
   "execution_count": 206,
   "metadata": {},
   "outputs": [
    {
     "data": {
      "text/plain": [
       "search_term    price\n",
       "localservices  $$        7\n",
       "               $         4\n",
       "               $$$       2\n",
       "               $$$$      1\n",
       "restaurants    $$       31\n",
       "               $        14\n",
       "               $$$       3\n",
       "shopping       $$       27\n",
       "               $         5\n",
       "               $$$       5\n",
       "               $$$$      5\n",
       "Name: price, dtype: int64"
      ]
     },
     "execution_count": 206,
     "metadata": {},
     "output_type": "execute_result"
    }
   ],
   "source": [
    "test_df.groupby('search_term').price.value_counts()"
   ]
  },
  {
   "cell_type": "code",
   "execution_count": 216,
   "metadata": {},
   "outputs": [
    {
     "data": {
      "text/plain": [
       "search_term  price\n",
       "restaurants  $$       47\n",
       "             $        14\n",
       "             $$$       5\n",
       "Name: price, dtype: int64"
      ]
     },
     "execution_count": 216,
     "metadata": {},
     "output_type": "execute_result"
    }
   ],
   "source": [
    "test_df.groupby('search_term').price.value_counts()"
   ]
  },
  {
   "cell_type": "code",
   "execution_count": 218,
   "metadata": {},
   "outputs": [
    {
     "data": {
      "text/plain": [
       "search_term  zip_code\n",
       "restaurants  10128       69\n",
       "             10028        1\n",
       "Name: zip_code, dtype: int64"
      ]
     },
     "execution_count": 218,
     "metadata": {},
     "output_type": "execute_result"
    }
   ],
   "source": [
    "test_df.groupby('search_term').zip_code.value_counts()"
   ]
  },
  {
   "cell_type": "code",
   "execution_count": 238,
   "metadata": {},
   "outputs": [
    {
     "data": {
      "text/html": [
       "<div>\n",
       "<style scoped>\n",
       "    .dataframe tbody tr th:only-of-type {\n",
       "        vertical-align: middle;\n",
       "    }\n",
       "\n",
       "    .dataframe tbody tr th {\n",
       "        vertical-align: top;\n",
       "    }\n",
       "\n",
       "    .dataframe thead th {\n",
       "        text-align: right;\n",
       "    }\n",
       "</style>\n",
       "<table border=\"1\" class=\"dataframe\">\n",
       "  <thead>\n",
       "    <tr style=\"text-align: right;\">\n",
       "      <th></th>\n",
       "      <th>latitude</th>\n",
       "      <th>longitude</th>\n",
       "    </tr>\n",
       "  </thead>\n",
       "  <tbody>\n",
       "    <tr>\n",
       "      <th>count</th>\n",
       "      <td>70.000000</td>\n",
       "      <td>70.000000</td>\n",
       "    </tr>\n",
       "    <tr>\n",
       "      <th>mean</th>\n",
       "      <td>40.781166</td>\n",
       "      <td>-73.951206</td>\n",
       "    </tr>\n",
       "    <tr>\n",
       "      <th>std</th>\n",
       "      <td>0.001410</td>\n",
       "      <td>0.001578</td>\n",
       "    </tr>\n",
       "    <tr>\n",
       "      <th>min</th>\n",
       "      <td>40.779055</td>\n",
       "      <td>-73.954674</td>\n",
       "    </tr>\n",
       "    <tr>\n",
       "      <th>25%</th>\n",
       "      <td>40.780040</td>\n",
       "      <td>-73.952674</td>\n",
       "    </tr>\n",
       "    <tr>\n",
       "      <th>50%</th>\n",
       "      <td>40.780795</td>\n",
       "      <td>-73.950862</td>\n",
       "    </tr>\n",
       "    <tr>\n",
       "      <th>75%</th>\n",
       "      <td>40.782462</td>\n",
       "      <td>-73.950127</td>\n",
       "    </tr>\n",
       "    <tr>\n",
       "      <th>max</th>\n",
       "      <td>40.784120</td>\n",
       "      <td>-73.947887</td>\n",
       "    </tr>\n",
       "  </tbody>\n",
       "</table>\n",
       "</div>"
      ],
      "text/plain": [
       "        latitude  longitude\n",
       "count  70.000000  70.000000\n",
       "mean   40.781166 -73.951206\n",
       "std     0.001410   0.001578\n",
       "min    40.779055 -73.954674\n",
       "25%    40.780040 -73.952674\n",
       "50%    40.780795 -73.950862\n",
       "75%    40.782462 -73.950127\n",
       "max    40.784120 -73.947887"
      ]
     },
     "execution_count": 238,
     "metadata": {},
     "output_type": "execute_result"
    }
   ],
   "source": [
    "test_df.describe()"
   ]
  },
  {
   "cell_type": "code",
   "execution_count": 239,
   "metadata": {},
   "outputs": [
    {
     "data": {
      "text/html": [
       "<div>\n",
       "<style scoped>\n",
       "    .dataframe tbody tr th:only-of-type {\n",
       "        vertical-align: middle;\n",
       "    }\n",
       "\n",
       "    .dataframe tbody tr th {\n",
       "        vertical-align: top;\n",
       "    }\n",
       "\n",
       "    .dataframe thead th {\n",
       "        text-align: right;\n",
       "    }\n",
       "</style>\n",
       "<table border=\"1\" class=\"dataframe\">\n",
       "  <thead>\n",
       "    <tr style=\"text-align: right;\">\n",
       "      <th></th>\n",
       "      <th>search_term</th>\n",
       "      <th>categories</th>\n",
       "      <th>alias</th>\n",
       "      <th>city</th>\n",
       "      <th>state</th>\n",
       "      <th>zip_code</th>\n",
       "      <th>price</th>\n",
       "      <th>review_count</th>\n",
       "    </tr>\n",
       "  </thead>\n",
       "  <tbody>\n",
       "    <tr>\n",
       "      <th>count</th>\n",
       "      <td>70</td>\n",
       "      <td>70</td>\n",
       "      <td>70</td>\n",
       "      <td>70</td>\n",
       "      <td>70</td>\n",
       "      <td>70</td>\n",
       "      <td>66</td>\n",
       "      <td>70</td>\n",
       "    </tr>\n",
       "    <tr>\n",
       "      <th>unique</th>\n",
       "      <td>1</td>\n",
       "      <td>57</td>\n",
       "      <td>70</td>\n",
       "      <td>2</td>\n",
       "      <td>1</td>\n",
       "      <td>2</td>\n",
       "      <td>3</td>\n",
       "      <td>61</td>\n",
       "    </tr>\n",
       "    <tr>\n",
       "      <th>top</th>\n",
       "      <td>restaurants</td>\n",
       "      <td>italian</td>\n",
       "      <td>the-filmore-delicatessen-new-york</td>\n",
       "      <td>New York</td>\n",
       "      <td>NY</td>\n",
       "      <td>10128</td>\n",
       "      <td>$$</td>\n",
       "      <td>139</td>\n",
       "    </tr>\n",
       "    <tr>\n",
       "      <th>freq</th>\n",
       "      <td>70</td>\n",
       "      <td>4</td>\n",
       "      <td>1</td>\n",
       "      <td>69</td>\n",
       "      <td>70</td>\n",
       "      <td>69</td>\n",
       "      <td>47</td>\n",
       "      <td>3</td>\n",
       "    </tr>\n",
       "  </tbody>\n",
       "</table>\n",
       "</div>"
      ],
      "text/plain": [
       "        search_term categories                              alias      city  \\\n",
       "count            70         70                                 70        70   \n",
       "unique            1         57                                 70         2   \n",
       "top     restaurants    italian  the-filmore-delicatessen-new-york  New York   \n",
       "freq             70          4                                  1        69   \n",
       "\n",
       "       state zip_code price  review_count  \n",
       "count     70       70    66            70  \n",
       "unique     1        2     3            61  \n",
       "top       NY    10128    $$           139  \n",
       "freq      70       69    47             3  "
      ]
     },
     "execution_count": 239,
     "metadata": {},
     "output_type": "execute_result"
    }
   ],
   "source": [
    "test_df.describe(include=[np.object])"
   ]
  },
  {
   "cell_type": "code",
   "execution_count": null,
   "metadata": {},
   "outputs": [],
   "source": []
  }
 ],
 "metadata": {
  "kernelspec": {
   "display_name": "Python 3",
   "language": "python",
   "name": "python3"
  },
  "language_info": {
   "codemirror_mode": {
    "name": "ipython",
    "version": 3
   },
   "file_extension": ".py",
   "mimetype": "text/x-python",
   "name": "python",
   "nbconvert_exporter": "python",
   "pygments_lexer": "ipython3",
   "version": "3.6.8"
  }
 },
 "nbformat": 4,
 "nbformat_minor": 2
}
